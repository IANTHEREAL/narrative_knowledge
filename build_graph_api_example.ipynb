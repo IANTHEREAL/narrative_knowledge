{
 "cells": [
  {
   "cell_type": "markdown",
   "metadata": {},
   "source": [
    "## Prepare Data"
   ]
  },
  {
   "cell_type": "code",
   "execution_count": 1,
   "metadata": {},
   "outputs": [
    {
     "name": "stderr",
     "output_type": "stream",
     "text": [
      "/Users/ian/miniconda3/envs/nk/lib/python3.12/site-packages/tqdm/auto.py:21: TqdmWarning: IProgress not found. Please update jupyter and ipywidgets. See https://ipywidgets.readthedocs.io/en/stable/user_install.html\n",
      "  from .autonotebook import tqdm as notebook_tqdm\n"
     ]
    }
   ],
   "source": [
    "import logging\n",
    "import os\n",
    "\n",
    "from llm.factory import LLMInterface\n",
    "from llm.embedding import get_text_embedding\n",
    "from setting.db import db_manager\n",
    "from knowledge_graph.knowledge import KnowledgeBuilder\n",
    "from knowledge_graph.graph_builder import KnowledgeGraphBuilder\n",
    "\n",
    "llm_client = LLMInterface(\"ollama\", \"qwen3:32b-fp16\")\n",
    "session_factory = db_manager.get_session_factory(os.getenv(\"GRAPH_DATABASE_URI\"))\n",
    "kb_builder = KnowledgeBuilder(llm_client, get_text_embedding, session_factory)\n",
    "graph_builder = KnowledgeGraphBuilder(llm_client, get_text_embedding, session_factory)\n",
    "\n",
    "# Initialize logging module with a basic configuration for console output\n",
    "logging.basicConfig(\n",
    "    level=logging.INFO,\n",
    "    format='[%(asctime)s] %(levelname)s - %(filename)s:%(lineno)d: %(message)s'\n",
    ")\n",
    "logger = logging.getLogger(__name__)"
   ]
  },
  {
   "cell_type": "code",
   "execution_count": 2,
   "metadata": {},
   "outputs": [
    {
     "name": "stdout",
     "output_type": "stream",
     "text": [
      "Successfully loaded configuration from: /Users/ian/Work/docs/toc_files_for_tidb_cloud.json\n",
      "\n",
      "Example: Accessing first document data:\n",
      "{'path': '/Users/ian/Work/docs/tidb-cloud/tidb-cloud-intro.md', 'category': 'tidbcloud/About TiDB Cloud', 'modified_time': '2025-01-09 08:47:10 +0000', 'web_view_link': 'https://docs.pingcap.com/tidbcloud/tidb-cloud-intro/', 'mime_type': 'text/markdown'}\n",
      "Topic: TiDBCloud Product Documentation - tidbcloud/API/API Overview, Number of documents: 1\n",
      "Topic: TiDBCloud Product Documentation - tidbcloud/About TiDB Cloud, Number of documents: 3\n"
     ]
    }
   ],
   "source": [
    "import json\n",
    "import os\n",
    "import hashlib\n",
    "\n",
    "categories = [\n",
    "    'tidbcloud/API/API Overview',\n",
    "    'tidbcloud/About TiDB Cloud',\n",
    "]\n",
    "\n",
    "# Define the path to the JSON configuration file\n",
    "config_file_path = '/Users/ian/Work/docs/toc_files_for_tidb_cloud.json'\n",
    "\n",
    "# Variable to store the loaded data\n",
    "loaded_docs = []\n",
    "\n",
    "# Read the JSON configuration file\n",
    "try:\n",
    "    with open(config_file_path, 'r', encoding='utf-8') as f:\n",
    "        loaded_docs = json.load(f)\n",
    "    print(f\"Successfully loaded configuration from: {config_file_path}\")\n",
    "except FileNotFoundError:\n",
    "    print(f\"Error: Configuration file not found at '{config_file_path}'\")\n",
    "except json.JSONDecodeError:\n",
    "    print(f\"Error: Could not decode JSON from file '{config_file_path}'. Check file format.\")\n",
    "except Exception as e:\n",
    "    print(f\"An unexpected error occurred while reading the file: {e}\")\n",
    "\n",
    "if len(loaded_docs) > 0:\n",
    "    print(\"\\nExample: Accessing first document data:\")\n",
    "    print(loaded_docs[0])\n",
    "else:\n",
    "    print(\"\\nConfiguration file is empty.\")\n",
    "\n",
    "\n",
    "tidb_product_docs = {}\n",
    "for category in categories:\n",
    "    topic_name = \"TiDBCloud Product Documentation - \" + category\n",
    "    tidb_product_docs[topic_name] = []\n",
    "    topic_docs = set()\n",
    "    for doc in loaded_docs:\n",
    "        if category == doc['category']:\n",
    "            topic_id = f\"{category}-{doc['web_view_link']}\"\n",
    "            if topic_id in topic_docs:\n",
    "                continue\n",
    "            topic_docs.add(topic_id)\n",
    "            tidb_product_docs[topic_name].append({\n",
    "                'topic_name': topic_name,\n",
    "                'path': doc['path'],  # required\n",
    "                'doc_link': doc['web_view_link'], # required\n",
    "                'category': category,\n",
    "                'updated_at': doc['modified_time'],\n",
    "                'mime_type': doc['mime_type'],\n",
    "                'version': \"2025-07-07\"\n",
    "            })\n",
    "    print(f\"Topic: {topic_name}, Number of documents: {len(tidb_product_docs[topic_name])}\")"
   ]
  },
  {
   "cell_type": "markdown",
   "metadata": {},
   "source": [
    "## Restful API Example"
   ]
  },
  {
   "cell_type": "markdown",
   "metadata": {},
   "source": [
    "### Upload documents by topic. \n",
    "\n",
    "The same document can be uploaded to different topics repeatedly, and the backend will automatically handle deduplication."
   ]
  },
  {
   "cell_type": "code",
   "execution_count": 3,
   "metadata": {},
   "outputs": [
    {
     "data": {
      "text/plain": [
       "[{'topic_name': 'TiDBCloud Product Documentation - tidbcloud/About TiDB Cloud',\n",
       "  'path': '/Users/ian/Work/docs/tidb-cloud/tidb-cloud-intro.md',\n",
       "  'doc_link': 'https://docs.pingcap.com/tidbcloud/tidb-cloud-intro/',\n",
       "  'category': 'tidbcloud/About TiDB Cloud',\n",
       "  'updated_at': '2025-01-09 08:47:10 +0000',\n",
       "  'mime_type': 'text/markdown',\n",
       "  'version': '2025-07-07'},\n",
       " {'topic_name': 'TiDBCloud Product Documentation - tidbcloud/About TiDB Cloud',\n",
       "  'path': '/Users/ian/Work/docs/tidb-cloud/high-availability-with-multi-az.md',\n",
       "  'doc_link': 'https://docs.pingcap.com/tidbcloud/high-availability-with-multi-az/',\n",
       "  'category': 'tidbcloud/About TiDB Cloud',\n",
       "  'updated_at': '2025-04-17 05:54:42 +0000',\n",
       "  'mime_type': 'text/markdown',\n",
       "  'version': '2025-07-07'},\n",
       " {'topic_name': 'TiDBCloud Product Documentation - tidbcloud/About TiDB Cloud',\n",
       "  'path': '/Users/ian/Work/docs/mysql-compatibility.md',\n",
       "  'doc_link': 'https://docs.pingcap.com/tidbcloud/mysql-compatibility/',\n",
       "  'category': 'tidbcloud/About TiDB Cloud',\n",
       "  'updated_at': '2025-06-06 01:35:53 +0000',\n",
       "  'mime_type': 'text/markdown',\n",
       "  'version': '2025-07-07'}]"
      ]
     },
     "execution_count": 3,
     "metadata": {},
     "output_type": "execute_result"
    }
   ],
   "source": [
    "topic_name = \"TiDBCloud Product Documentation - tidbcloud/About TiDB Cloud\"\n",
    "topic_docs = tidb_product_docs[topic_name]\n",
    "topic_docs"
   ]
  },
  {
   "cell_type": "code",
   "execution_count": null,
   "metadata": {},
   "outputs": [],
   "source": [
    "import requests\n",
    "\n",
    "url = \"http://192.168.206.252:23333/api/v1/save\"\n",
    "\n",
    "files = []\n",
    "links = []\n",
    "for doc in topic_docs:\n",
    "    files.append(('files', (doc[\"path\"].split('/')[-1], open(doc[\"path\"], 'rb'), 'application/pdf')))\n",
    "    links.append(doc[\"doc_link\"])\n",
    "\n",
    "data = {\n",
    "    'links': links,\n",
    "    'topic_name': topic_name,\n",
    "    'database_uri': os.getenv(\"GRAPH_DATABASE_URI\")\n",
    "}\n",
    "response = requests.post(url, files=files, data=data)\n",
    "\n",
    "print(response.status_code)\n",
    "print(response.json())\n"
   ]
  },
  {
   "cell_type": "code",
   "execution_count": 4,
   "metadata": {},
   "outputs": [
    {
     "name": "stdout",
     "output_type": "stream",
     "text": [
      "uploading document 'tidb-cloud-intro.md' to http://192.168.206.252:23333/api/v1/save...\n",
      "response status code: 200\n",
      "response content (JSON):\n",
      "{\n",
      "  \"status\": \"success\",\n",
      "  \"data\": {\n",
      "    \"id\": \"cf72bc65d6a8d51c07e3854cfafe299a3988567f636f901a552e508eff22a236\",\n",
      "    \"name\": \"tidb-cloud-intro.md\",\n",
      "    \"file_path\": \"uploads/TiDBCloud Product Documentation - tidbcloud/About TiDB Cloud/tidb-cloud-intro_v1\",\n",
      "    \"doc_link\": \"https://docs.pingcap.com/tidbcloud/tidb-cloud-intro/\",\n",
      "    \"file_type\": \"markdown\",\n",
      "    \"status\": \"uploaded\"\n",
      "  },\n",
      "  \"message\": \"Successfully processed file for knowledge graph. Status: uploaded\"\n",
      "}\n",
      "uploading document 'high-availability-with-multi-az.md' to http://192.168.206.252:23333/api/v1/save...\n",
      "response status code: 200\n",
      "response content (JSON):\n",
      "{\n",
      "  \"status\": \"success\",\n",
      "  \"data\": {\n",
      "    \"id\": \"572d84c0c1c102c7baaec99bc6a2cfb532fd3ceb4bd40f7e07d6d53d5e0573a3\",\n",
      "    \"name\": \"high-availability-with-multi-az.md\",\n",
      "    \"file_path\": \"uploads/TiDBCloud Product Documentation - tidbcloud/About TiDB Cloud/high-availability-with-multi-az_v1\",\n",
      "    \"doc_link\": \"https://docs.pingcap.com/tidbcloud/high-availability-with-multi-az/\",\n",
      "    \"file_type\": \"markdown\",\n",
      "    \"status\": \"uploaded\"\n",
      "  },\n",
      "  \"message\": \"Successfully processed file for knowledge graph. Status: uploaded\"\n",
      "}\n",
      "uploading document 'mysql-compatibility.md' to http://192.168.206.252:23333/api/v1/save...\n",
      "response status code: 200\n",
      "response content (JSON):\n",
      "{\n",
      "  \"status\": \"success\",\n",
      "  \"data\": {\n",
      "    \"id\": \"762c0856b51655a453d02179b118ddca45f55cca79fda6a5ce88088faff674c9\",\n",
      "    \"name\": \"mysql-compatibility.md\",\n",
      "    \"file_path\": \"uploads/TiDBCloud Product Documentation - tidbcloud/About TiDB Cloud/mysql-compatibility_v1\",\n",
      "    \"doc_link\": \"https://docs.pingcap.com/tidbcloud/mysql-compatibility/\",\n",
      "    \"file_type\": \"markdown\",\n",
      "    \"status\": \"uploaded\"\n",
      "  },\n",
      "  \"message\": \"Successfully processed file for knowledge graph. Status: uploaded\"\n",
      "}\n"
     ]
    }
   ],
   "source": [
    "import requests\n",
    "import json\n",
    "import os\n",
    "from pathlib import Path\n",
    "\n",
    "API_ENDPOINT = \"http://192.168.206.252:23333/api/v1/save\"\n",
    "\n",
    "for topic_doc in topic_docs:\n",
    "    topic_name = topic_doc[\"topic_name\"]\n",
    "    document_link = topic_doc[\"doc_link\"]\n",
    "    document_path = Path(topic_doc[\"path\"])\n",
    "\n",
    "    metadata_payload = {\n",
    "        \"topic_name\": topic_name,\n",
    "        \"link\": document_link,\n",
    "    }\n",
    "    metadata_json_string = json.dumps(metadata_payload)\n",
    "\n",
    "    form_data = {\n",
    "        \"target_type\": \"knowledge_graph\",\n",
    "        \"metadata\": metadata_json_string,\n",
    "    }\n",
    "\n",
    "    with open(document_path, \"rb\") as f:\n",
    "        files_payload = {\n",
    "            \"file\": (document_path.name, f, \"application/octet-stream\")\n",
    "        }\n",
    "\n",
    "        # send request\n",
    "        print(f\"uploading document '{document_path.name}' to {API_ENDPOINT}...\")\n",
    "        try:\n",
    "            response = requests.post(API_ENDPOINT, data=form_data, files=files_payload, timeout=60)\n",
    "\n",
    "            # handle response\n",
    "            print(f\"response status code: {response.status_code}\")\n",
    "            \n",
    "            # check if response is successful\n",
    "            if response.ok:\n",
    "                print(\"response content (JSON):\")\n",
    "                print(json.dumps(response.json(), indent=2, ensure_ascii=False))\n",
    "            else:\n",
    "                print(f\"request failed: {response.text}\")\n",
    "\n",
    "        except requests.exceptions.RequestException as e:\n",
    "            print(f\"request failed: {e}\")\n"
   ]
  },
  {
   "cell_type": "markdown",
   "metadata": {},
   "source": [
    "### Build Graph\n",
    "\n",
    "After documents are uploaded to the same topic, a build of the corresponding graph can be triggered."
   ]
  },
  {
   "cell_type": "code",
   "execution_count": 5,
   "metadata": {},
   "outputs": [
    {
     "name": "stdout",
     "output_type": "stream",
     "text": [
      "200\n",
      "{'status': 'success', 'data': {'triggered_count': 3, 'topic_name': 'TiDBCloud Product Documentation - tidbcloud/About TiDB Cloud'}, 'message': \"Successfully triggered processing for 3 documents in topic 'TiDBCloud Product Documentation - tidbcloud/About TiDB Cloud'. Processing will begin shortly.\"}\n"
     ]
    }
   ],
   "source": [
    "import requests\n",
    "\n",
    "# Call the trigger-processing API to start processing uploaded all documents for a topic\n",
    "url = \"http://192.168.206.252:23333/api/v1/knowledge/trigger-processing\"\n",
    "data = {\n",
    "    \"topic_name\": topic_name\n",
    "}\n",
    "\n",
    "response = requests.post(url, data=data)\n",
    "print(response.status_code)\n",
    "print(response.json())"
   ]
  }
 ],
 "metadata": {
  "kernelspec": {
   "display_name": "nk",
   "language": "python",
   "name": "python3"
  },
  "language_info": {
   "codemirror_mode": {
    "name": "ipython",
    "version": 3
   },
   "file_extension": ".py",
   "mimetype": "text/x-python",
   "name": "python",
   "nbconvert_exporter": "python",
   "pygments_lexer": "ipython3",
   "version": "3.12.11"
  }
 },
 "nbformat": 4,
 "nbformat_minor": 2
}
