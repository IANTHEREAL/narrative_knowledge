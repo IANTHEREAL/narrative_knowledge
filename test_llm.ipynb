{
 "cells": [
  {
   "cell_type": "code",
   "execution_count": 2,
   "id": "56d1b1a8",
   "metadata": {},
   "outputs": [
    {
     "name": "stdout",
     "output_type": "stream",
     "text": [
      "LLM response:\n",
      "Hello! How can I assist you today?\n"
     ]
    }
   ],
   "source": [
    "\n",
    "from llm.factory import LLMInterface\n",
    "\n",
    "\n",
    "llm_client = LLMInterface(\"openai\", model=\"gpt-4o\")\n",
    "\n",
    "\n",
    "response = llm_client.generate(\"hi\")\n",
    "\n",
    "\n",
    "print(\"LLM response:\")\n",
    "print(response)\n"
   ]
  }
 ],
 "metadata": {
  "kernelspec": {
   "display_name": ".venv",
   "language": "python",
   "name": "python3"
  },
  "language_info": {
   "codemirror_mode": {
    "name": "ipython",
    "version": 3
   },
   "file_extension": ".py",
   "mimetype": "text/x-python",
   "name": "python",
   "nbconvert_exporter": "python",
   "pygments_lexer": "ipython3",
   "version": "3.12.3"
  }
 },
 "nbformat": 4,
 "nbformat_minor": 5
}
